{
 "cells": [
  {
   "cell_type": "code",
   "execution_count": 84,
   "id": "7fa0e07e-7292-4a37-99ba-f807776f3a35",
   "metadata": {},
   "outputs": [],
   "source": [
    "import pandas as pd"
   ]
  },
  {
   "cell_type": "code",
   "execution_count": 86,
   "id": "215061d9-571f-4472-8506-a5a28500d82c",
   "metadata": {},
   "outputs": [],
   "source": [
    "df = pd.read_csv('sales_data.csv')"
   ]
  },
  {
   "cell_type": "code",
   "execution_count": 88,
   "id": "fded9247-435a-4190-98e2-d0cd782aa79c",
   "metadata": {},
   "outputs": [
    {
     "name": "stdout",
     "output_type": "stream",
     "text": [
      "   OrderID      CustomerName  Category  Amount  Rating   OrderDate\n",
      "0        1       Justin Hahn     Books  353.32       4  18-01-2025\n",
      "1        2  Joshua Velasquez     Books  469.74       2  02-09-2024\n",
      "2        3        Karen Tran  Clothing  671.81       4  13-07-2024\n",
      "3        4    Andrew Roberts      Home  386.22       2  07-06-2024\n",
      "4        5     Patricia Boyd      Toys  722.20       1  13-12-2024\n"
     ]
    }
   ],
   "source": [
    "print(df.head())"
   ]
  },
  {
   "cell_type": "markdown",
   "id": "255a88a8-6474-48d7-9453-08d525f0081c",
   "metadata": {},
   "source": [
    "## Q1: What is the total revenue?"
   ]
  },
  {
   "cell_type": "code",
   "execution_count": 91,
   "id": "6dd73049-7c89-49c9-ba6e-7ad7758c01f6",
   "metadata": {},
   "outputs": [
    {
     "name": "stdout",
     "output_type": "stream",
     "text": [
      "The Total Revenue is: 57215.45\n"
     ]
    }
   ],
   "source": [
    "sum_of_revenue= df['Amount'].sum()\n",
    "print(f\"The Total Revenue is: {sum_of_revenue}\")"
   ]
  },
  {
   "cell_type": "markdown",
   "id": "8677c955-b98f-429e-b0ed-30125c6a6672",
   "metadata": {},
   "source": [
    "## Q2: Which category generated the highest revenue?"
   ]
  },
  {
   "cell_type": "code",
   "execution_count": 94,
   "id": "852c6166-21e2-45f5-bcc6-7591d122021f",
   "metadata": {},
   "outputs": [
    {
     "name": "stdout",
     "output_type": "stream",
     "text": [
      "Category\n",
      "Books          14178.43\n",
      "Home           11975.88\n",
      "Toys           10627.08\n",
      "Clothing       10549.91\n",
      "Electronics     9884.15\n",
      "Name: Amount, dtype: float64\n",
      "Top category: Books with revenue: 14178.43\n"
     ]
    }
   ],
   "source": [
    "category_revenue = df.groupby(\"Category\")[\"Amount\"].sum().sort_values(ascending=False)\n",
    "print(category_revenue)\n",
    "print(\"Top category:\", category_revenue.idxmax(), \"with revenue:\", category_revenue.max())\n"
   ]
  },
  {
   "cell_type": "markdown",
   "id": "d3833ac1-8e8a-4ccf-b029-c75a2ecd9cef",
   "metadata": {},
   "source": [
    "## Q3: What is the average rating per category?"
   ]
  },
  {
   "cell_type": "code",
   "execution_count": 97,
   "id": "490416c2-8de4-4241-978b-8b79bfe5067d",
   "metadata": {},
   "outputs": [
    {
     "name": "stdout",
     "output_type": "stream",
     "text": [
      "Category\n",
      "Clothing       3.777778\n",
      "Electronics    3.187500\n",
      "Books          2.692308\n",
      "Toys           2.500000\n",
      "Home           2.318182\n",
      "Name: Rating, dtype: float64\n"
     ]
    }
   ],
   "source": [
    "avg_rating_per_category = df.groupby(\"Category\")[\"Rating\"].mean().sort_values(ascending=False)\n",
    "print(avg_rating_per_category)\n"
   ]
  },
  {
   "cell_type": "markdown",
   "id": "8f4d04d1-ed0e-4d21-ba82-0d45b4078796",
   "metadata": {},
   "source": [
    "## Q4: Monthly revenue trends"
   ]
  },
  {
   "cell_type": "code",
   "execution_count": 100,
   "id": "51ac8bff-ae61-495b-861c-12a523532d9b",
   "metadata": {},
   "outputs": [
    {
     "name": "stdout",
     "output_type": "stream",
     "text": [
      "Month\n",
      "2024-04    2493.64\n",
      "2024-05    3534.99\n",
      "2024-06    3985.84\n",
      "2024-07    5585.82\n",
      "2024-08    6140.65\n",
      "2024-09    2994.46\n",
      "2024-10    1709.15\n",
      "2024-11    4325.19\n",
      "2024-12    5314.27\n",
      "2025-01    5555.77\n",
      "2025-02    6569.77\n",
      "2025-03    3891.58\n",
      "2025-04    5114.32\n",
      "Freq: M, Name: Amount, dtype: float64\n"
     ]
    },
    {
     "name": "stderr",
     "output_type": "stream",
     "text": [
      "C:\\Users\\asus\\AppData\\Local\\Temp\\ipykernel_15300\\4067757445.py:1: UserWarning: Parsing dates in %d-%m-%Y format when dayfirst=False (the default) was specified. Pass `dayfirst=True` or specify a format to silence this warning.\n",
      "  df[\"OrderDate\"] = pd.to_datetime(df[\"OrderDate\"], errors=\"coerce\")\n"
     ]
    }
   ],
   "source": [
    "df[\"OrderDate\"] = pd.to_datetime(df[\"OrderDate\"], errors=\"coerce\")\n",
    "\n",
    "df[\"Month\"] = df[\"OrderDate\"].dt.to_period(\"M\")\n",
    "\n",
    "monthly_revenue = df.groupby(\"Month\")[\"Amount\"].sum().sort_index()\n",
    "\n",
    "print(monthly_revenue)"
   ]
  },
  {
   "cell_type": "markdown",
   "id": "cec4e698-92ad-4907-bf21-4451dcadc27a",
   "metadata": {},
   "source": [
    "## Q5: Top 5 customers by total spend"
   ]
  },
  {
   "cell_type": "code",
   "execution_count": 103,
   "id": "95b700e5-2d9b-44a5-98f6-454251a1f40e",
   "metadata": {},
   "outputs": [
    {
     "name": "stdout",
     "output_type": "stream",
     "text": [
      "CustomerName\n",
      "Michael Johnson      996.34\n",
      "Sergio Robinson      992.05\n",
      "Crystal Zimmerman    981.09\n",
      "Vanessa Boyd         979.21\n",
      "Nicole Henry         977.37\n",
      "Name: Amount, dtype: float64\n"
     ]
    }
   ],
   "source": [
    "top_customers = df.groupby(\"CustomerName\")[\"Amount\"].sum().sort_values(ascending=False).head(5)\n",
    "print(top_customers)\n"
   ]
  },
  {
   "cell_type": "markdown",
   "id": "514753ec-f229-4ebd-894c-4d72e56d16f0",
   "metadata": {},
   "source": [
    "## Q6:How many orders received a perfect 5-star rating?"
   ]
  },
  {
   "cell_type": "code",
   "execution_count": 106,
   "id": "b253e65e-d8c6-42dc-9fa6-721c4a9a9cfa",
   "metadata": {},
   "outputs": [
    {
     "name": "stdout",
     "output_type": "stream",
     "text": [
      "Total 5-star orders: 15\n"
     ]
    }
   ],
   "source": [
    "perfect_rated_orders = df[df[\"Rating\"] == 5]\n",
    "print(\"Total 5-star orders:\", len(perfect_rated_orders))\n"
   ]
  },
  {
   "cell_type": "markdown",
   "id": "f73c8a64-2595-4982-ba7c-022d4fe1490d",
   "metadata": {},
   "source": [
    "## Q7: Average order amount per category"
   ]
  },
  {
   "cell_type": "code",
   "execution_count": 109,
   "id": "cc188ed3-f7c9-48e5-8f34-513e83399b3b",
   "metadata": {},
   "outputs": [
    {
     "name": "stdout",
     "output_type": "stream",
     "text": [
      "Category\n",
      "Electronics    617.759375\n",
      "Toys           590.393333\n",
      "Clothing       586.106111\n",
      "Books          545.324231\n",
      "Home           544.358182\n",
      "Name: Amount, dtype: float64\n"
     ]
    }
   ],
   "source": [
    "avg_amount_per_category = df.groupby(\"Category\")[\"Amount\"].mean().sort_values(ascending=False)\n",
    "print(avg_amount_per_category)"
   ]
  },
  {
   "cell_type": "markdown",
   "id": "b43fcc5a-7160-4060-aed1-eed6076a1f85",
   "metadata": {},
   "source": [
    "## Q8: Number of orders per category"
   ]
  },
  {
   "cell_type": "code",
   "execution_count": 112,
   "id": "54c805a7-6b4f-419f-89ce-11345dd09ce6",
   "metadata": {},
   "outputs": [
    {
     "name": "stdout",
     "output_type": "stream",
     "text": [
      "Category\n",
      "Books          26\n",
      "Home           22\n",
      "Clothing       18\n",
      "Toys           18\n",
      "Electronics    16\n",
      "Name: count, dtype: int64\n"
     ]
    }
   ],
   "source": [
    "orders_per_category = df[\"Category\"].value_counts()\n",
    "print(orders_per_category)"
   ]
  },
  {
   "cell_type": "markdown",
   "id": "c4fb6251-308e-43cd-ba72-05750214a7e6",
   "metadata": {},
   "source": [
    "## Q9: Which day had the highest total sales?"
   ]
  },
  {
   "cell_type": "code",
   "execution_count": 115,
   "id": "7389855b-b93b-4d1d-88fc-f86090b90b07",
   "metadata": {},
   "outputs": [
    {
     "name": "stdout",
     "output_type": "stream",
     "text": [
      "Highest sales day: 2025-04-12 00:00:00 with sales: 1826.84\n"
     ]
    }
   ],
   "source": [
    "daily_sales = df.groupby(\"OrderDate\")[\"Amount\"].sum().sort_values(ascending=False)\n",
    "print(\"Highest sales day:\", daily_sales.idxmax(), \"with sales:\", daily_sales.max())"
   ]
  },
  {
   "cell_type": "markdown",
   "id": "fc3ddab7-fb37-4b22-9d65-233f149403ae",
   "metadata": {},
   "source": [
    "## Q10: How many unique customers placed orders?"
   ]
  },
  {
   "cell_type": "code",
   "execution_count": 118,
   "id": "caa7c006-684c-45d4-902b-2cb1cf6f1369",
   "metadata": {},
   "outputs": [
    {
     "name": "stdout",
     "output_type": "stream",
     "text": [
      "Unique customers: 100\n"
     ]
    }
   ],
   "source": [
    "unique_customers = df[\"CustomerName\"].nunique()\n",
    "print(\"Unique customers:\", unique_customers)"
   ]
  },
  {
   "cell_type": "markdown",
   "id": "f280b91f-34f9-46ea-84bb-3cafe0c37cc3",
   "metadata": {},
   "source": [
    "## Q11: What is the most frequent rating given by customers?"
   ]
  },
  {
   "cell_type": "code",
   "execution_count": 121,
   "id": "6f840d9a-84d9-4a6d-b789-6940cbb94261",
   "metadata": {},
   "outputs": [
    {
     "name": "stdout",
     "output_type": "stream",
     "text": [
      "Most frequent rating: 1\n"
     ]
    }
   ],
   "source": [
    "most_common_rating = df[\"Rating\"].mode()[0]\n",
    "print(\"Most frequent rating:\", most_common_rating)\n"
   ]
  },
  {
   "cell_type": "markdown",
   "id": "e66526a7-9fd6-4afc-a5f9-3568db6000ac",
   "metadata": {},
   "source": [
    "## Q12: What is the total revenue per rating score?"
   ]
  },
  {
   "cell_type": "code",
   "execution_count": 124,
   "id": "88b4b8ee-f34e-4bdf-9f2e-30e28f27287f",
   "metadata": {},
   "outputs": [
    {
     "name": "stdout",
     "output_type": "stream",
     "text": [
      "Rating\n",
      "1    14985.04\n",
      "2    10436.78\n",
      "3     8722.54\n",
      "4    14339.71\n",
      "5     8731.38\n",
      "Name: Amount, dtype: float64\n"
     ]
    }
   ],
   "source": [
    "revenue_per_rating = df.groupby(\"Rating\")[\"Amount\"].sum().sort_index()\n",
    "print(revenue_per_rating)\n"
   ]
  },
  {
   "cell_type": "markdown",
   "id": "f7a08eee-4393-4e33-bbcf-0ae998717e76",
   "metadata": {},
   "source": [
    "## Q13: Which customer gave the most 5-star ratings?"
   ]
  },
  {
   "cell_type": "code",
   "execution_count": 127,
   "id": "8551ce43-1d0a-4f03-8438-d40935ff1101",
   "metadata": {},
   "outputs": [
    {
     "name": "stdout",
     "output_type": "stream",
     "text": [
      "Customer with most 5-star ratings: Regina Bates\n"
     ]
    }
   ],
   "source": [
    "five_star_customers = df[df[\"Rating\"] == 5]\n",
    "top_five_star_customer = five_star_customers[\"CustomerName\"].value_counts().idxmax()\n",
    "print(\"Customer with most 5-star ratings:\", top_five_star_customer)"
   ]
  },
  {
   "cell_type": "markdown",
   "id": "fec0cc6d-8506-46c0-8c8f-bf9f5228f061",
   "metadata": {},
   "source": [
    "## Q14: What is the average revenue per order by month?"
   ]
  },
  {
   "cell_type": "code",
   "execution_count": 130,
   "id": "a63e9dea-4307-4fc6-8a8e-290f156c5a55",
   "metadata": {},
   "outputs": [
    {
     "name": "stdout",
     "output_type": "stream",
     "text": [
      "Month\n",
      "2024-04    498.728000\n",
      "2024-05    589.165000\n",
      "2024-06    569.405714\n",
      "2024-07    620.646667\n",
      "2024-08    614.065000\n",
      "2024-09    427.780000\n",
      "2024-10    341.830000\n",
      "2024-11    617.884286\n",
      "2024-12    590.474444\n",
      "2025-01    555.577000\n",
      "2025-02    547.480833\n",
      "2025-03    555.940000\n",
      "2025-04    852.386667\n",
      "Freq: M, Name: Amount, dtype: float64\n"
     ]
    }
   ],
   "source": [
    "df[\"Month\"] = df[\"OrderDate\"].dt.to_period(\"M\")\n",
    "avg_revenue_per_order_by_month = df.groupby(\"Month\")[\"Amount\"].mean()\n",
    "print(avg_revenue_per_order_by_month)"
   ]
  },
  {
   "cell_type": "markdown",
   "id": "295cdc2f-bbb2-4e6e-a81e-4a7880015e69",
   "metadata": {},
   "source": [
    "## Q15: What is the revenue contributed by the top 10% of customers?"
   ]
  },
  {
   "cell_type": "code",
   "execution_count": 133,
   "id": "bc78312a-fede-4e91-9e66-4808d1b3d6ca",
   "metadata": {},
   "outputs": [
    {
     "name": "stdout",
     "output_type": "stream",
     "text": [
      "Revenue by top 10% customers: $9584.77\n",
      "Percentage contribution: 16.75%\n"
     ]
    }
   ],
   "source": [
    "# Total spend per customer\n",
    "customer_spend = df.groupby(\"CustomerName\")[\"Amount\"].sum()\n",
    "\n",
    "# Top 10% customers\n",
    "threshold = int(0.1 * len(customer_spend))\n",
    "top_10_percent_customers = customer_spend.sort_values(ascending=False).head(threshold)\n",
    "\n",
    "# Revenue from top 10%\n",
    "top_10_revenue = top_10_percent_customers.sum()\n",
    "total_revenue = df[\"Amount\"].sum()\n",
    "\n",
    "print(f\"Revenue by top 10% customers: ${top_10_revenue:.2f}\")\n",
    "print(f\"Percentage contribution: {100 * top_10_revenue / total_revenue:.2f}%\")\n"
   ]
  },
  {
   "cell_type": "markdown",
   "id": "6916ad8b-edfd-4f0f-9b6e-664b8d8f7ccd",
   "metadata": {},
   "source": [
    "## Q16: Which customers placed more than 3 orders?"
   ]
  },
  {
   "cell_type": "code",
   "execution_count": 136,
   "id": "ec5307a4-94e0-42bb-bcbe-df6f8edf476a",
   "metadata": {},
   "outputs": [
    {
     "name": "stdout",
     "output_type": "stream",
     "text": [
      "Series([], Name: count, dtype: int64)\n"
     ]
    }
   ],
   "source": [
    "order_counts = df[\"CustomerName\"].value_counts()\n",
    "frequent_customers = order_counts[order_counts > 3]\n",
    "print(frequent_customers)\n"
   ]
  },
  {
   "cell_type": "markdown",
   "id": "b48fff9a-e45b-4dd8-bbd3-a44f389ad4d3",
   "metadata": {},
   "source": [
    "## Q17: What is the average rating across all orders?"
   ]
  },
  {
   "cell_type": "code",
   "execution_count": 139,
   "id": "d6497d27-bc3f-45b7-9af1-7f817868af89",
   "metadata": {},
   "outputs": [
    {
     "name": "stdout",
     "output_type": "stream",
     "text": [
      "Average rating across all orders: 2.85\n"
     ]
    }
   ],
   "source": [
    "avg_rating = df[\"Rating\"].mean()\n",
    "print(\"Average rating across all orders:\", round(avg_rating, 2))\n"
   ]
  },
  {
   "cell_type": "markdown",
   "id": "c1caf241-fb90-4860-8eb5-711d534821c1",
   "metadata": {},
   "source": [
    "## Q18: Category with highest avg order value"
   ]
  },
  {
   "cell_type": "code",
   "execution_count": 142,
   "id": "fc5ad41c-1246-4120-96d3-c1eb1b98affc",
   "metadata": {},
   "outputs": [
    {
     "name": "stdout",
     "output_type": "stream",
     "text": [
      "Category with highest average order value: Electronics\n"
     ]
    }
   ],
   "source": [
    "avg_order_value_per_category = df.groupby(\"Category\")[\"Amount\"].mean().sort_values(ascending=False)\n",
    "top_avg_value_category = avg_order_value_per_category.idxmax()\n",
    "print(\"Category with highest average order value:\", top_avg_value_category)\n"
   ]
  },
  {
   "cell_type": "markdown",
   "id": "2074bc63-3ca2-4a1c-82b9-2ef28f357672",
   "metadata": {},
   "source": [
    "## Q19: Revenue % by category"
   ]
  },
  {
   "cell_type": "code",
   "execution_count": 145,
   "id": "e0dc2c1a-bca0-4155-9845-76b7617cceca",
   "metadata": {},
   "outputs": [
    {
     "name": "stdout",
     "output_type": "stream",
     "text": [
      "Category\n",
      "Books          24.780772\n",
      "Clothing       18.438918\n",
      "Electronics    17.275316\n",
      "Home           20.931200\n",
      "Toys           18.573794\n",
      "Name: Amount, dtype: float64\n"
     ]
    }
   ],
   "source": [
    "revenue_by_category = df.groupby(\"Category\")[\"Amount\"].sum()\n",
    "percent_by_category = (revenue_by_category / revenue_by_category.sum()) * 100\n",
    "print(percent_by_category)\n"
   ]
  },
  {
   "cell_type": "markdown",
   "id": "e2a35916-b20b-40af-8545-0d6d8ec51f24",
   "metadata": {},
   "source": [
    "## Q20: Category with most 5-star ratings"
   ]
  },
  {
   "cell_type": "code",
   "execution_count": 148,
   "id": "d97842f5-dfe2-44f9-abbd-1cad81dcbd2a",
   "metadata": {},
   "outputs": [
    {
     "name": "stdout",
     "output_type": "stream",
     "text": [
      "Category with most 5-star ratings: Clothing\n"
     ]
    }
   ],
   "source": [
    "five_star = df[df[\"Rating\"] == 5]\n",
    "five_star_counts = five_star[\"Category\"].value_counts()\n",
    "top_category_5_star = five_star_counts.idxmax()\n",
    "print(\"Category with most 5-star ratings:\", top_category_5_star)\n"
   ]
  },
  {
   "cell_type": "markdown",
   "id": "2f699ad0-64fd-446b-9891-724d377a4362",
   "metadata": {},
   "source": [
    "## Q21: Month with highest avg rating"
   ]
  },
  {
   "cell_type": "code",
   "execution_count": 151,
   "id": "b066d80b-edc6-4e95-adc6-899752da811a",
   "metadata": {},
   "outputs": [
    {
     "name": "stdout",
     "output_type": "stream",
     "text": [
      "Month with highest average rating: 2025-04\n"
     ]
    }
   ],
   "source": [
    "df[\"Month\"] = df[\"OrderDate\"].dt.to_period(\"M\")\n",
    "avg_rating_by_month = df.groupby(\"Month\")[\"Rating\"].mean()\n",
    "top_month = avg_rating_by_month.idxmax()\n",
    "print(\"Month with highest average rating:\", top_month)\n"
   ]
  },
  {
   "cell_type": "markdown",
   "id": "f2b92ceb-5df0-46f3-8355-9242d93f8261",
   "metadata": {},
   "source": [
    "## Q22: Customer with highest avg order value"
   ]
  },
  {
   "cell_type": "code",
   "execution_count": 154,
   "id": "8f7db72a-b6dc-41c4-badf-a0d7ebbb48a3",
   "metadata": {},
   "outputs": [
    {
     "name": "stdout",
     "output_type": "stream",
     "text": [
      "Customer with highest average order value: Michael Johnson\n"
     ]
    }
   ],
   "source": [
    "avg_order_value = df.groupby(\"CustomerName\")[\"Amount\"].mean()\n",
    "top_customer = avg_order_value.idxmax()\n",
    "print(\"Customer with highest average order value:\", top_customer)\n"
   ]
  },
  {
   "cell_type": "markdown",
   "id": "ee704878-e173-4990-8bcb-79883ed59dfd",
   "metadata": {},
   "source": [
    "## Q23: Month-over-month revenue growth"
   ]
  },
  {
   "cell_type": "code",
   "execution_count": 157,
   "id": "48175b9f-e86d-4d83-bc1f-7c23823fed42",
   "metadata": {},
   "outputs": [
    {
     "name": "stdout",
     "output_type": "stream",
     "text": [
      "Month-over-month revenue growth (%):\n",
      "Month\n",
      "2024-05     41.760238\n",
      "2024-06     12.753926\n",
      "2024-07     40.141601\n",
      "2024-08      9.932830\n",
      "2024-09    -51.235456\n",
      "2024-10    -42.922931\n",
      "2024-11    153.060878\n",
      "2024-12     22.867897\n",
      "2025-01      4.544368\n",
      "2025-02     18.251295\n",
      "2025-03    -40.765354\n",
      "2025-04     31.420143\n",
      "Freq: M, Name: Amount, dtype: float64\n"
     ]
    }
   ],
   "source": [
    "monthly_revenue = df.groupby(\"Month\")[\"Amount\"].sum()\n",
    "mom_growth = monthly_revenue.pct_change().dropna() * 100\n",
    "print(\"Month-over-month revenue growth (%):\")\n",
    "print(mom_growth)\n"
   ]
  },
  {
   "cell_type": "markdown",
   "id": "364c0fdc-905e-413e-b3b1-f6ad04851313",
   "metadata": {},
   "source": [
    "## Q24: Customers who gave 1-star and 5-star"
   ]
  },
  {
   "cell_type": "code",
   "execution_count": 160,
   "id": "8a103ca2-b04c-483f-b1db-667a47b44870",
   "metadata": {},
   "outputs": [
    {
     "name": "stdout",
     "output_type": "stream",
     "text": [
      "Customers who gave both 1-star and 5-star ratings:\n",
      "[]\n"
     ]
    }
   ],
   "source": [
    "rating_map = df.groupby(\"CustomerName\")[\"Rating\"].agg(set)\n",
    "mixed_raters = rating_map[rating_map.apply(lambda x: {1, 5}.issubset(x))]\n",
    "print(\"Customers who gave both 1-star and 5-star ratings:\")\n",
    "print(mixed_raters.index.tolist())\n"
   ]
  },
  {
   "cell_type": "markdown",
   "id": "6aa3ded5-6a8f-4bb1-8226-197019dbeb2c",
   "metadata": {},
   "source": [
    "## Q25: Avg order value for 5-star ratings"
   ]
  },
  {
   "cell_type": "code",
   "execution_count": 163,
   "id": "0faa201b-83a3-43d6-931f-7615edff384a",
   "metadata": {},
   "outputs": [
    {
     "name": "stdout",
     "output_type": "stream",
     "text": [
      "Average order value for 5-star ratings: 582.09\n"
     ]
    }
   ],
   "source": [
    "avg_value_5_star = df[df[\"Rating\"] == 5][\"Amount\"].mean()\n",
    "print(\"Average order value for 5-star ratings:\", round(avg_value_5_star, 2))\n"
   ]
  },
  {
   "cell_type": "markdown",
   "id": "4c31de06-9720-467e-88fe-3a368d81cb4d",
   "metadata": {},
   "source": [
    "## Q26: Customers who always rated >= 4"
   ]
  },
  {
   "cell_type": "code",
   "execution_count": 166,
   "id": "3c6d46dd-4a20-41fa-9643-de3f374ec3ff",
   "metadata": {},
   "outputs": [
    {
     "name": "stdout",
     "output_type": "stream",
     "text": [
      "Customers who always gave ratings >= 4:\n",
      "['Amy Harrington', 'Austin Perry', 'Colleen Gordon', 'Crystal Watson', 'Dawn Taylor', 'Dr. Christopher Woods', 'Fred Jennings', 'Hannah Johnson', 'Heather Robinson', 'Jackie Douglas', 'Jennifer Gates', 'Jillian Shaw', 'John Ferguson', 'Joseph Sampson', 'Juan Patterson', 'Julie Bailey', 'Justin Hahn', 'Karen Tran', 'Lisa Kelly', 'Lisa Smith', 'Mark Bishop', 'Megan Garcia', 'Melissa Rose', 'Mindy Williams', 'Nicole Wright', 'Rachel Pham', 'Regina Bates', 'Ryan Mckinney', 'Sally Smith', 'Sara Parker', 'Sergio Robinson', 'Shannon Lopez', 'Tanya Mcbride', 'Taylor Flores', 'Taylor Valencia', 'Teresa Baker', 'Timothy Woodward', 'Tina Webb', 'William Beard PhD', 'William Dean']\n"
     ]
    }
   ],
   "source": [
    "rating_consistency = df.groupby(\"CustomerName\")[\"Rating\"].min()\n",
    "always_4_or_more = rating_consistency[rating_consistency >= 4]\n",
    "print(\"Customers who always gave ratings >= 4:\")\n",
    "print(always_4_or_more.index.tolist())\n"
   ]
  },
  {
   "cell_type": "markdown",
   "id": "ed41d59c-be04-4e98-a9fe-18d189b94d0a",
   "metadata": {},
   "source": [
    "## Q27: Std. deviation of amount by category"
   ]
  },
  {
   "cell_type": "code",
   "execution_count": 169,
   "id": "41bc1768-bdd1-4ec0-be50-0074eb5d0748",
   "metadata": {},
   "outputs": [
    {
     "name": "stdout",
     "output_type": "stream",
     "text": [
      "Standard deviation of amount by category:\n",
      "Category\n",
      "Books          251.449212\n",
      "Clothing       217.945052\n",
      "Electronics    280.081125\n",
      "Home           271.631494\n",
      "Toys           179.925315\n",
      "Name: Amount, dtype: float64\n"
     ]
    }
   ],
   "source": [
    "std_by_category = df.groupby(\"Category\")[\"Amount\"].std()\n",
    "print(\"Standard deviation of amount by category:\")\n",
    "print(std_by_category)\n"
   ]
  },
  {
   "cell_type": "markdown",
   "id": "e6dab9d8-3940-4ba0-8b2e-1a4663174e32",
   "metadata": {},
   "source": [
    "## Q28: Month with highest revenue growth"
   ]
  },
  {
   "cell_type": "code",
   "execution_count": 172,
   "id": "f79985b6-61a1-43c9-a2b0-d0edf0f36147",
   "metadata": {},
   "outputs": [
    {
     "name": "stdout",
     "output_type": "stream",
     "text": [
      "Month with highest revenue growth: 2024-11\n"
     ]
    }
   ],
   "source": [
    "growth = df.groupby(\"Month\")[\"Amount\"].sum().pct_change()\n",
    "top_growth_month = growth.idxmax()\n",
    "print(\"Month with highest revenue growth:\", top_growth_month)\n"
   ]
  },
  {
   "cell_type": "markdown",
   "id": "864fdb72-6e2f-4dae-86fd-8af921c5cd81",
   "metadata": {},
   "source": [
    "## Q29: Category with lowest avg rating"
   ]
  },
  {
   "cell_type": "code",
   "execution_count": 175,
   "id": "c3708c04-7c08-47c8-8cfa-5e268d4db291",
   "metadata": {},
   "outputs": [
    {
     "name": "stdout",
     "output_type": "stream",
     "text": [
      "Category with lowest average rating: Home\n"
     ]
    }
   ],
   "source": [
    "lowest_avg_rating_category = df.groupby(\"Category\")[\"Rating\"].mean().idxmin()\n",
    "print(\"Category with lowest average rating:\", lowest_avg_rating_category)\n"
   ]
  },
  {
   "cell_type": "markdown",
   "id": "e5abdf5a-40fe-4406-955b-dd17fe7299b7",
   "metadata": {},
   "source": [
    "## Q30: High-value but poorly rated orders"
   ]
  },
  {
   "cell_type": "code",
   "execution_count": 177,
   "id": "5d3c03c8-a1b3-4ea5-a664-47335d2571cc",
   "metadata": {},
   "outputs": [
    {
     "name": "stdout",
     "output_type": "stream",
     "text": [
      "High-value but poorly rated orders:\n",
      "Empty DataFrame\n",
      "Columns: [CustomerName, Category, Amount, Rating, OrderDate]\n",
      "Index: []\n"
     ]
    }
   ],
   "source": [
    "high_value_poor_rating = df[(df[\"Amount\"] > 1000) & (df[\"Rating\"] < 3)]\n",
    "print(\"High-value but poorly rated orders:\")\n",
    "print(high_value_poor_rating[[\"CustomerName\", \"Category\", \"Amount\", \"Rating\", \"OrderDate\"]])\n"
   ]
  },
  {
   "cell_type": "code",
   "execution_count": null,
   "id": "6e717315-3e68-4a69-8bba-6568efa0f0f9",
   "metadata": {},
   "outputs": [],
   "source": []
  },
  {
   "cell_type": "code",
   "execution_count": null,
   "id": "97853b2b-c2a5-407d-9e2d-d839e06e6d1c",
   "metadata": {},
   "outputs": [],
   "source": []
  },
  {
   "cell_type": "code",
   "execution_count": null,
   "id": "cbc41d98-a3ec-4dd5-b730-589995dc1cd2",
   "metadata": {},
   "outputs": [],
   "source": []
  },
  {
   "cell_type": "code",
   "execution_count": null,
   "id": "c0d02c9b-832e-46fb-afa1-9042653ca890",
   "metadata": {},
   "outputs": [],
   "source": []
  },
  {
   "cell_type": "code",
   "execution_count": null,
   "id": "e8341268-9930-4f2f-be4b-7737259cabd2",
   "metadata": {},
   "outputs": [],
   "source": []
  },
  {
   "cell_type": "code",
   "execution_count": null,
   "id": "a0e5412e-8f14-4a62-b821-433988b2eb55",
   "metadata": {},
   "outputs": [],
   "source": []
  }
 ],
 "metadata": {
  "kernelspec": {
   "display_name": "Python [conda env:base] *",
   "language": "python",
   "name": "conda-base-py"
  },
  "language_info": {
   "codemirror_mode": {
    "name": "ipython",
    "version": 3
   },
   "file_extension": ".py",
   "mimetype": "text/x-python",
   "name": "python",
   "nbconvert_exporter": "python",
   "pygments_lexer": "ipython3",
   "version": "3.12.7"
  }
 },
 "nbformat": 4,
 "nbformat_minor": 5
}
